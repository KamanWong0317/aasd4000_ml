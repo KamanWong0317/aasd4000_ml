{
  "metadata": {
    "kernelspec": {
      "name": "xpython",
      "display_name": "Python 3.13 (XPython)",
      "language": "python"
    },
    "language_info": {
      "file_extension": ".py",
      "mimetype": "text/x-python",
      "name": "python",
      "version": "3.13.1"
    }
  },
  "nbformat_minor": 5,
  "nbformat": 4,
  "cells": [
    {
      "id": "ce234407-9e80-44dd-b242-8dd1c12cbf69",
      "cell_type": "code",
      "source": "# Python script to scrape an article given the url of the article and store the extracted text in a file\n# Url: https://medium.com/@subashgandyer/papa-what-is-a-neural-network-c5e5cc427c7\n\nimport os\nimport requests\nimport re\n# Code here - Import BeautifulSoup library\nfrom bs4 import BeautifulSoup\n# Code ends here\n\n# function to get the html source text of the medium article\ndef get_page():\n\tglobal url\n\t\n\t# Code here - Ask the user to input \"Enter url of a medium article: \" and collect it in url\n\turl = input(\"Enter url of a medium article: \")\n\t# Code ends here\n\t\n\t# handling possible error\n\tif not re.match(r'https?://medium.com/',url):\n\t\tprint('Please enter a valid website, or make sure it is a medium article')\n\t\tsys.exit(1)\n\n\t# Code here - Call get method in requests object, pass url and collect it in res\n\tres = requests.get(url)\n\t# Code ends here\n\n\tres.raise_for_status()\n\tsoup = BeautifulSoup(res.text, 'html.parser')\n\treturn soup\n\n# function to remove all the html tags and replace some with specific strings\ndef clean(text):\n    rep = {\"<br>\": \"\\n\", \"<br/>\": \"\\n\", \"<li>\":  \"\\n\"}\n    rep = dict((re.escape(k), v) for k, v in rep.items()) \n    pattern = re.compile(\"|\".join(rep.keys()))\n    text = pattern.sub(lambda m: rep[re.escape(m.group(0))], text)\n    text = re.sub('\\<(.*?)\\>', '', text)\n    return text\n\n\ndef collect_text(soup):\n\ttext = f'url: {url}\\n\\n'\n\tpara_text = soup.find_all('p')\n\tprint(f\"paragraphs text = \\n {para_text}\")\n\tfor para in para_text:\n\t\ttext += f\"{para.text}\\n\\n\"\n\treturn text\n\n# function to save file in the current directory\ndef save_file(text):\n\tif not os.path.exists('./scraped_articles'):\n\t\tos.mkdir('./scraped_articles')\n\tname = url.split(\"/\")[-1]\n\tprint(name)\n\tfname = f'scraped_articles/{name}.txt'\n\t\n\t# Code here - write a file using with (2 lines)\n\twith open(fname, 'w') as f:\n\t\tf.write(text) \n\t# Code ends here\n\n\tprint(f'File saved in directory {fname}')\n\n\nif __name__ == '__main__':\n\ttext = collect_text(get_page())\n\tsave_file(text)\n\t# Instructions to Run this python code\n\t# Give url as https://medium.com/@subashgandyer/papa-what-is-a-neural-network-c5e5cc427c7",
      "metadata": {
        "trusted": true
      },
      "outputs": [],
      "execution_count": null
    }
  ]
}